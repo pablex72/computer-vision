{
  "nbformat": 4,
  "nbformat_minor": 0,
  "metadata": {
    "colab": {
      "provenance": [],
      "authorship_tag": "ABX9TyPYSn5Sj/C2JM/lAISH7h35",
      "include_colab_link": true
    },
    "kernelspec": {
      "name": "python3",
      "display_name": "Python 3"
    },
    "language_info": {
      "name": "python"
    }
  },
  "cells": [
    {
      "cell_type": "markdown",
      "metadata": {
        "id": "view-in-github",
        "colab_type": "text"
      },
      "source": [
        "<a href=\"https://colab.research.google.com/github/pablex72/computer-vision/blob/main/geometric_operations.ipynb\" target=\"_parent\"><img src=\"https://colab.research.google.com/assets/colab-badge.svg\" alt=\"Open In Colab\"/></a>"
      ]
    },
    {
      "cell_type": "code",
      "execution_count": null,
      "metadata": {
        "id": "ZDaVFkqbmKWf"
      },
      "outputs": [],
      "source": [
        "#\n",
        "my_image = \"lenna.png\"\n",
        "\n",
        "import os\n",
        "cwd = os.getcwd()\n",
        "cwd\n",
        "\n",
        "image_path = os.path.join(cwd, my_image)\n",
        "image_path\n",
        "#Load in Image in Python\n",
        "import cv2\n",
        "#The imread() method loads an image from the specified file\n",
        "image = cv2.imread(my_image)\n",
        "type(image)\n",
        "# The shape is the same as the PIL array, but there are several differences; for example,\n",
        "# PIL returns in (R, G, B) format whereas OpenCV returns in (B, G, R) format.\n",
        "#You can also use the imshow function from the matplotlib library:\n",
        "import matplotlib.pyplot as plt\n",
        "\n",
        "plt.figure(figsize=(10,10))\n",
        "plt.imshow(image)\n",
        "plt.show()\n",
        "\n",
        "#The image output doesn't look natural. This is because the order of RGB Channels are different.\n",
        "#We can change the color space with conversion code and the function cvtColor from the cv2 library:\n",
        "\n",
        "new_image=cv2.cvtColor(image, cv2.COLOR_BGR2RGB)\n",
        "plt.figure(figsize=(10,10))\n",
        "plt.imshow(new_image)\n",
        "plt.show()\n",
        "\n",
        "image = cv2.imread(image_path)\n",
        "image.shape\n",
        "\n",
        "cv2.imwrite(\"lenna.jpg\", image)\n",
        "\n",
        "#Grayscale Images\n",
        "\n",
        "\n",
        "image_gray = cv2.cvtColor(image, cv2.COLOR_BGR2GRAY)\n",
        "image_gray.shape\n",
        "image_gray.shape\n",
        "plt.figure(figsize=(10, 10))\n",
        "plt.imshow(image_gray, cmap='gray')\n",
        "plt.show()\n",
        "\n",
        "plt.figure(figsize=(10, 10))\n",
        "plt.imshow(image_gray, cmap='gray')\n",
        "plt.show()\n",
        "\n",
        "#You can also load in a grayscale image we have to set flag parameter to gray color conversation code: cv2.COLOR_BGR2GRAY:\n",
        "\n",
        "im_gray = cv2.imread('barbara.png', cv2.IMREAD_GRAYSCALE)\n",
        "\n",
        "plt.figure(figsize=(10,10))\n",
        "plt.imshow(im_gray,cmap='gray')\n",
        "plt.show()\n",
        "\n",
        "#Color Channels\n",
        "baboon=cv2.imread('baboon.png')\n",
        "plt.figure(figsize=(10,10))\n",
        "plt.imshow(cv2.cvtColor(baboon, cv2.COLOR_BGR2RGB))\n",
        "plt.show()\n",
        "\n",
        "blue, green, red = baboon[:, :, 0], baboon[:, :, 1], baboon[:, :, 2]\n",
        "\n",
        "im_bgr = cv2.vconcat([blue, green, red])\n",
        "\n",
        "plt.figure(figsize=(10,10))\n",
        "plt.subplot(121)\n",
        "plt.imshow(cv2.cvtColor(baboon, cv2.COLOR_BGR2RGB))\n",
        "plt.title(\"RGB image\")\n",
        "plt.subplot(122)\n",
        "plt.imshow(im_bgr,cmap='gray')\n",
        "plt.title(\"Different color channels  blue (top), green (middle), red (bottom)  \")\n",
        "plt.show()"
      ]
    }
  ]
}